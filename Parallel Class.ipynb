{
 "cells": [
  {
   "cell_type": "markdown",
   "metadata": {
    "application/vnd.databricks.v1+cell": {
     "cellMetadata": {},
     "inputWidgets": {},
     "nuid": "11437fee-ff2a-41f4-b04f-3f47d3e2b8cc",
     "showTitle": false,
     "tableResultSettingsMap": {},
     "title": ""
    }
   },
   "source": [
    "# Use to parallelize ingestion"
   ]
  },
  {
   "cell_type": "code",
   "execution_count": 0,
   "metadata": {
    "application/vnd.databricks.v1+cell": {
     "cellMetadata": {
      "byteLimit": 2048000,
      "rowLimit": 10000
     },
     "inputWidgets": {},
     "nuid": "04592225-c190-4808-8a8f-3e012ddff1d8",
     "showTitle": false,
     "tableResultSettingsMap": {},
     "title": ""
    }
   },
   "outputs": [],
   "source": [
    "from concurrent.futures import ThreadPoolExecutor\n",
    "\n",
    "class NotebookData:\n",
    "    def __init__(self, path, timeout, parameters=None, retry=0):\n",
    "        self.path = path\n",
    "        self.timeout = timeout\n",
    "        self.parameters = parameters\n",
    "        self.retry = retry\n",
    "\n",
    "    def submitNotebook(notebook):\n",
    "        print(\"Running notebook %s\" % notebook.path)\n",
    "        try:\n",
    "            if notebook.parameters:\n",
    "                return dbutils.notebook.run(notebook.path, notebook.timeout, notebook.parameters)\n",
    "            else:\n",
    "                return dbutils.notebook.run(notebook.path, notebook.timeout)\n",
    "        except Exception:\n",
    "            if notebook.retry < 1:\n",
    "                raise\n",
    "        print(\"Retrying notebook %s\" % notebook.path)\n",
    "        notebook.retry = notebook.retry - 1\n",
    "        submitNotebook(notebook)\n",
    "\n",
    "def parallelNotebooks(notebooks, numInParallel):\n",
    "    with ThreadPoolExecutor(max_workers=numInParallel) as ec:\n",
    "        return [ec.submit(NotebookData.submitNotebook, notebook) for notebook in notebooks]\n",
    "\n",
    "def partition_parameters(parameters, num_partitions):\n",
    "    for i in range(0, len(parameters), num_partitions):\n",
    "        yield parameters[i:i + num_partitions]\n"
   ]
  },
  {
   "cell_type": "code",
   "execution_count": 0,
   "metadata": {
    "application/vnd.databricks.v1+cell": {
     "cellMetadata": {},
     "inputWidgets": {},
     "nuid": "ff45d695-1892-48c8-8550-12f6b0bb9ce1",
     "showTitle": false,
     "tableResultSettingsMap": {},
     "title": ""
    }
   },
   "outputs": [],
   "source": [
    "/Workspace/Users/arturlauth@gmail.com/lagodedadosalttab/Ingestor"
   ]
  },
  {
   "cell_type": "code",
   "execution_count": 0,
   "metadata": {
    "application/vnd.databricks.v1+cell": {
     "cellMetadata": {},
     "inputWidgets": {},
     "nuid": "afdf2218-f5a8-496d-a079-a1b51041a222",
     "showTitle": false,
     "tableResultSettingsMap": {},
     "title": ""
    }
   },
   "outputs": [],
   "source": [
    "# Array of instances of NotebookData Class\n",
    "notebooks = [\n",
    "    NotebookData(\"../path/to/Notebook1\", 1200, {\"Parameter1\": \"Parameter1Value\", \"Parameter2\": \"Parameter2Value\"}),\n",
    "    NotebookData(\"../path/to/Notebook2\", 1200, {\"Parameter1\": \"Parameter1Value\", \"Parameter2\": \"Parameter2Value\", \"Parameter3\": \"Parameter3Value\"}),\n",
    "    NotebookData(\"../path/to/Notebook3\", 1200, retry=2)\n",
    "]\n",
    "\n",
    "res = parallelNotebooks(notebooks, 4)\n",
    "result = [i.result(timeout=3600) for i in res]  # This is a blocking call.\n",
    "print(result)"
   ]
  }
 ],
 "metadata": {
  "application/vnd.databricks.v1+notebook": {
   "computePreferences": null,
   "dashboards": [],
   "environmentMetadata": {
    "base_environment": "",
    "environment_version": "2"
   },
   "language": "python",
   "notebookMetadata": {
    "pythonIndentUnit": 4
   },
   "notebookName": "Parallel Class",
   "widgets": {}
  },
  "language_info": {
   "name": "python"
  }
 },
 "nbformat": 4,
 "nbformat_minor": 0
}
